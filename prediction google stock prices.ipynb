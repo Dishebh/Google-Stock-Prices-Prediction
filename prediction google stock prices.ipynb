{
 "cells": [
  {
   "cell_type": "code",
   "execution_count": 12,
   "metadata": {},
   "outputs": [],
   "source": [
    "import matplotlib.pyplot as plt\n",
    "import pandas as pd\n",
    "import keras\n",
    "import numpy as np"
   ]
  },
  {
   "cell_type": "code",
   "execution_count": 13,
   "metadata": {},
   "outputs": [],
   "source": [
    "dataset_train = pd.read_csv (\"Google_Stock_Price_Train.csv\")"
   ]
  },
  {
   "cell_type": "code",
   "execution_count": 3,
   "metadata": {},
   "outputs": [
    {
     "data": {
      "text/plain": [
       "<bound method NDFrame.tail of             Date    Open    High     Low   Close      Volume\n",
       "0       1/3/2012  325.25  332.83  324.97  663.59   7,380,500\n",
       "1       1/4/2012  331.27  333.87  329.08  666.45   5,749,400\n",
       "2       1/5/2012  329.83  330.75  326.89  657.21   6,590,300\n",
       "3       1/6/2012  328.34  328.77  323.68  648.24   5,405,900\n",
       "4       1/9/2012  322.04  322.29  309.46  620.76  11,688,800\n",
       "5      1/10/2012  313.70  315.72  307.30  621.43   8,824,000\n",
       "6      1/11/2012  310.59  313.52  309.40  624.25   4,817,800\n",
       "7      1/12/2012  314.43  315.26  312.08  627.92   3,764,400\n",
       "8      1/13/2012  311.96  312.30  309.37  623.28   4,631,800\n",
       "9      1/17/2012  314.81  314.81  311.67  626.86   3,832,800\n",
       "10     1/18/2012  312.14  315.82  309.90  631.18   5,544,000\n",
       "11     1/19/2012  319.30  319.30  314.55  637.82  12,657,800\n",
       "12     1/20/2012  294.16  294.40  289.76  584.39  21,231,800\n",
       "13     1/23/2012  291.91  293.23  290.49  583.92   6,851,300\n",
       "14     1/24/2012  292.07  292.74  287.92  579.34   6,134,400\n",
       "15     1/25/2012  287.68  288.27  282.13  567.93  10,012,700\n",
       "16     1/26/2012  284.92  286.17  281.22  566.54   6,476,500\n",
       "17     1/27/2012  284.32  289.08  283.60  578.39   7,262,000\n",
       "18     1/30/2012  287.95  288.92  285.63  576.11   4,678,400\n",
       "19     1/31/2012  290.41  290.91  286.50  578.52   4,300,700\n",
       "20      2/1/2012  291.38  291.66  288.49  579.24   4,658,700\n",
       "21      2/2/2012  291.34  292.11  289.95  583.51   4,847,400\n",
       "22      2/3/2012  294.23  297.42  292.93   594.7   6,360,700\n",
       "23      2/6/2012  296.39  304.27  295.90  607.42   7,386,700\n",
       "24      2/7/2012  302.44  303.56  300.75  605.11   4,199,700\n",
       "25      2/8/2012  303.18  304.53  301.24  608.18   3,686,400\n",
       "26      2/9/2012  304.87  306.10  303.36  609.79   4,546,300\n",
       "27     2/10/2012  302.81  302.93  300.87  604.25   4,667,700\n",
       "28     2/13/2012  304.11  305.77  303.87  610.52   3,646,100\n",
       "29     2/14/2012  304.63  304.86  301.25  608.09   3,620,900\n",
       "...          ...     ...     ...     ...     ...         ...\n",
       "1228  11/17/2016  766.92  772.70  764.23  771.23   1,304,000\n",
       "1229  11/18/2016  771.37  775.00  760.00  760.54   1,547,100\n",
       "1230  11/21/2016  762.61  769.70  760.60   769.2   1,330,600\n",
       "1231  11/22/2016  772.63  776.96  767.00  768.27   1,593,100\n",
       "1232  11/23/2016  767.73  768.28  755.25  760.99   1,478,400\n",
       "1233  11/25/2016  764.26  765.00  760.52  761.68     587,400\n",
       "1234  11/28/2016  760.00  779.53  759.80  768.24   2,188,200\n",
       "1235  11/29/2016  771.53  778.50  768.24  770.84   1,616,600\n",
       "1236  11/30/2016  770.07  772.99  754.83  758.04   2,392,900\n",
       "1237   12/1/2016  757.44  759.85  737.03  747.92   3,017,900\n",
       "1238   12/2/2016  744.59  754.00  743.10   750.5   1,452,500\n",
       "1239   12/5/2016  757.71  763.90  752.90  762.52   1,394,200\n",
       "1240   12/6/2016  764.73  768.83  757.34  759.11   1,690,700\n",
       "1241   12/7/2016  761.00  771.36  755.80  771.19   1,761,000\n",
       "1242   12/8/2016  772.48  778.18  767.23  776.42   1,488,100\n",
       "1243   12/9/2016  780.00  789.43  779.02  789.29   1,821,900\n",
       "1244  12/12/2016  785.04  791.25  784.35  789.27   2,104,100\n",
       "1245  12/13/2016  793.90  804.38  793.34   796.1   2,145,200\n",
       "1246  12/14/2016  797.40  804.00  794.01  797.07   1,704,200\n",
       "1247  12/15/2016  797.34  803.00  792.92  797.85   1,626,500\n",
       "1248  12/16/2016  800.40  800.86  790.29   790.8   2,443,800\n",
       "1249  12/19/2016  790.22  797.66  786.27   794.2   1,232,100\n",
       "1250  12/20/2016  796.76  798.65  793.27  796.42     951,000\n",
       "1251  12/21/2016  795.84  796.68  787.10  794.56   1,211,300\n",
       "1252  12/22/2016  792.36  793.32  788.58  791.26     972,200\n",
       "1253  12/23/2016  790.90  792.74  787.28  789.91     623,400\n",
       "1254  12/27/2016  790.68  797.86  787.66  791.55     789,100\n",
       "1255  12/28/2016  793.70  794.23  783.20  785.05   1,153,800\n",
       "1256  12/29/2016  783.33  785.93  778.92  782.79     744,300\n",
       "1257  12/30/2016  782.75  782.78  770.41  771.82   1,770,000\n",
       "\n",
       "[1258 rows x 6 columns]>"
      ]
     },
     "execution_count": 3,
     "metadata": {},
     "output_type": "execute_result"
    }
   ],
   "source": [
    "dataset_train.tail"
   ]
  },
  {
   "cell_type": "code",
   "execution_count": 47,
   "metadata": {},
   "outputs": [],
   "source": [
    "training_set = dataset_train.iloc [:, 1 : 2].values"
   ]
  },
  {
   "cell_type": "code",
   "execution_count": 48,
   "metadata": {},
   "outputs": [
    {
     "data": {
      "text/plain": [
       "(1258, 1)"
      ]
     },
     "execution_count": 48,
     "metadata": {},
     "output_type": "execute_result"
    }
   ],
   "source": [
    "training_set.shape"
   ]
  },
  {
   "cell_type": "raw",
   "metadata": {},
   "source": []
  },
  {
   "cell_type": "code",
   "execution_count": 49,
   "metadata": {},
   "outputs": [],
   "source": [
    "#Feature scaling\n",
    "from sklearn.preprocessing import MinMaxScaler"
   ]
  },
  {
   "cell_type": "code",
   "execution_count": 50,
   "metadata": {},
   "outputs": [],
   "source": [
    "sc = MinMaxScaler (feature_range = (0, 1))"
   ]
  },
  {
   "cell_type": "code",
   "execution_count": 51,
   "metadata": {},
   "outputs": [],
   "source": [
    "training_set_scaled = sc.fit_transform (training_set)"
   ]
  },
  {
   "cell_type": "code",
   "execution_count": 52,
   "metadata": {},
   "outputs": [
    {
     "data": {
      "text/plain": [
       "array([[0.08581368],\n",
       "       [0.09701243],\n",
       "       [0.09433366],\n",
       "       ...,\n",
       "       [0.95725128],\n",
       "       [0.93796041],\n",
       "       [0.93688146]])"
      ]
     },
     "execution_count": 52,
     "metadata": {},
     "output_type": "execute_result"
    }
   ],
   "source": [
    "training_set_scaled"
   ]
  },
  {
   "cell_type": "code",
   "execution_count": 53,
   "metadata": {},
   "outputs": [],
   "source": [
    "#Creating a data structure with 60 timesteps and aone output"
   ]
  },
  {
   "cell_type": "code",
   "execution_count": 54,
   "metadata": {},
   "outputs": [],
   "source": [
    "X_train = []\n",
    "y_train = []"
   ]
  },
  {
   "cell_type": "code",
   "execution_count": 55,
   "metadata": {},
   "outputs": [],
   "source": [
    "for i in range (60, 1258):\n",
    "    X_train.append (training_set_scaled [i-60 : i, 0])\n",
    "    y_train.append (training_set_scaled [i : i+1, 0])"
   ]
  },
  {
   "cell_type": "code",
   "execution_count": 56,
   "metadata": {},
   "outputs": [],
   "source": [
    "X_train, y_train = np.array (X_train), np.array (y_train)"
   ]
  },
  {
   "cell_type": "code",
   "execution_count": 57,
   "metadata": {},
   "outputs": [
    {
     "data": {
      "text/plain": [
       "(1198, 60)"
      ]
     },
     "execution_count": 57,
     "metadata": {},
     "output_type": "execute_result"
    }
   ],
   "source": [
    "X_train.shape"
   ]
  },
  {
   "cell_type": "code",
   "execution_count": 58,
   "metadata": {},
   "outputs": [
    {
     "data": {
      "text/plain": [
       "(1198, 1)"
      ]
     },
     "execution_count": 58,
     "metadata": {},
     "output_type": "execute_result"
    }
   ],
   "source": [
    "y_train.shape"
   ]
  },
  {
   "cell_type": "code",
   "execution_count": 59,
   "metadata": {},
   "outputs": [],
   "source": [
    "#Reshaping"
   ]
  },
  {
   "cell_type": "code",
   "execution_count": 60,
   "metadata": {},
   "outputs": [],
   "source": [
    "X_train = np.reshape (X_train, (X_train.shape [0], X_train.shape [1], 1))"
   ]
  },
  {
   "cell_type": "code",
   "execution_count": 61,
   "metadata": {},
   "outputs": [
    {
     "data": {
      "text/plain": [
       "(1198, 60, 1)"
      ]
     },
     "execution_count": 61,
     "metadata": {},
     "output_type": "execute_result"
    }
   ],
   "source": [
    "X_train.shape"
   ]
  },
  {
   "cell_type": "code",
   "execution_count": 62,
   "metadata": {},
   "outputs": [],
   "source": [
    "#Building the RNN"
   ]
  },
  {
   "cell_type": "code",
   "execution_count": 63,
   "metadata": {},
   "outputs": [],
   "source": [
    "#Importing keras libraries and packages"
   ]
  },
  {
   "cell_type": "code",
   "execution_count": 64,
   "metadata": {},
   "outputs": [],
   "source": [
    "from keras.models import Sequential\n",
    "from keras.layers import Dense, LSTM\n",
    "from keras.layers import Dropout"
   ]
  },
  {
   "cell_type": "code",
   "execution_count": 65,
   "metadata": {},
   "outputs": [],
   "source": [
    "#Initialising the RNN"
   ]
  },
  {
   "cell_type": "code",
   "execution_count": 66,
   "metadata": {},
   "outputs": [
    {
     "name": "stderr",
     "output_type": "stream",
     "text": [
      "WARNING: Logging before flag parsing goes to stderr.\n",
      "W0905 16:13:46.709423 140267700062016 deprecation_wrapper.py:119] From /home/dishebh/anaconda3/lib/python3.7/site-packages/keras/backend/tensorflow_backend.py:74: The name tf.get_default_graph is deprecated. Please use tf.compat.v1.get_default_graph instead.\n",
      "\n"
     ]
    }
   ],
   "source": [
    "regressor = Sequential ()"
   ]
  },
  {
   "cell_type": "code",
   "execution_count": 67,
   "metadata": {},
   "outputs": [],
   "source": [
    "#Adding first LSTM layer and some dropout regularisation"
   ]
  },
  {
   "cell_type": "code",
   "execution_count": 68,
   "metadata": {},
   "outputs": [
    {
     "name": "stderr",
     "output_type": "stream",
     "text": [
      "W0905 16:13:47.853887 140267700062016 deprecation_wrapper.py:119] From /home/dishebh/anaconda3/lib/python3.7/site-packages/keras/backend/tensorflow_backend.py:517: The name tf.placeholder is deprecated. Please use tf.compat.v1.placeholder instead.\n",
      "\n",
      "W0905 16:13:47.989540 140267700062016 deprecation_wrapper.py:119] From /home/dishebh/anaconda3/lib/python3.7/site-packages/keras/backend/tensorflow_backend.py:4138: The name tf.random_uniform is deprecated. Please use tf.random.uniform instead.\n",
      "\n",
      "W0905 16:13:48.932642 140267700062016 deprecation_wrapper.py:119] From /home/dishebh/anaconda3/lib/python3.7/site-packages/keras/backend/tensorflow_backend.py:133: The name tf.placeholder_with_default is deprecated. Please use tf.compat.v1.placeholder_with_default instead.\n",
      "\n",
      "W0905 16:13:48.938280 140267700062016 deprecation.py:506] From /home/dishebh/anaconda3/lib/python3.7/site-packages/keras/backend/tensorflow_backend.py:3445: calling dropout (from tensorflow.python.ops.nn_ops) with keep_prob is deprecated and will be removed in a future version.\n",
      "Instructions for updating:\n",
      "Please use `rate` instead of `keep_prob`. Rate should be set to `rate = 1 - keep_prob`.\n"
     ]
    }
   ],
   "source": [
    "regressor.add (LSTM (50, input_shape = (X_train.shape [1], 1), return_sequences = True))\n",
    "regressor.add (Dropout (0.2))"
   ]
  },
  {
   "cell_type": "code",
   "execution_count": 69,
   "metadata": {},
   "outputs": [],
   "source": [
    "#Adding second LSTM layer and some dropout regularisation"
   ]
  },
  {
   "cell_type": "code",
   "execution_count": 70,
   "metadata": {},
   "outputs": [],
   "source": [
    "regressor.add (LSTM (50, return_sequences = True))\n",
    "regressor.add (Dropout (0.2))"
   ]
  },
  {
   "cell_type": "code",
   "execution_count": 71,
   "metadata": {},
   "outputs": [],
   "source": [
    "#Adding third LSTM layer and some dropout regularisation"
   ]
  },
  {
   "cell_type": "code",
   "execution_count": 72,
   "metadata": {},
   "outputs": [],
   "source": [
    "regressor.add (LSTM (50, return_sequences = True))\n",
    "regressor.add (Dropout (0.2))"
   ]
  },
  {
   "cell_type": "code",
   "execution_count": 73,
   "metadata": {},
   "outputs": [],
   "source": [
    "#Adding fourth LSTM layer and some dropout regularisation"
   ]
  },
  {
   "cell_type": "code",
   "execution_count": 74,
   "metadata": {},
   "outputs": [],
   "source": [
    "regressor.add (LSTM (50))\n",
    "regressor.add (Dropout (0.2))"
   ]
  },
  {
   "cell_type": "code",
   "execution_count": 75,
   "metadata": {},
   "outputs": [],
   "source": [
    "#Adding the output layer"
   ]
  },
  {
   "cell_type": "code",
   "execution_count": 76,
   "metadata": {},
   "outputs": [],
   "source": [
    "regressor.add (Dense (1))"
   ]
  },
  {
   "cell_type": "code",
   "execution_count": 77,
   "metadata": {},
   "outputs": [],
   "source": [
    "#Compiling the RNN"
   ]
  },
  {
   "cell_type": "code",
   "execution_count": 78,
   "metadata": {},
   "outputs": [
    {
     "name": "stderr",
     "output_type": "stream",
     "text": [
      "W0905 16:13:53.432603 140267700062016 deprecation_wrapper.py:119] From /home/dishebh/anaconda3/lib/python3.7/site-packages/keras/optimizers.py:790: The name tf.train.Optimizer is deprecated. Please use tf.compat.v1.train.Optimizer instead.\n",
      "\n"
     ]
    }
   ],
   "source": [
    "regressor.compile (optimizer = 'Adam', loss = 'mean_squared_error', )"
   ]
  },
  {
   "cell_type": "code",
   "execution_count": 79,
   "metadata": {},
   "outputs": [],
   "source": [
    "#Fitting the RNN to the training set"
   ]
  },
  {
   "cell_type": "code",
   "execution_count": 80,
   "metadata": {},
   "outputs": [
    {
     "name": "stderr",
     "output_type": "stream",
     "text": [
      "W0905 16:13:56.632599 140267700062016 deprecation.py:323] From /home/dishebh/anaconda3/lib/python3.7/site-packages/tensorflow/python/ops/math_grad.py:1250: add_dispatch_support.<locals>.wrapper (from tensorflow.python.ops.array_ops) is deprecated and will be removed in a future version.\n",
      "Instructions for updating:\n",
      "Use tf.where in 2.0, which has the same broadcast rule as np.where\n",
      "W0905 16:13:58.811950 140267700062016 deprecation_wrapper.py:119] From /home/dishebh/anaconda3/lib/python3.7/site-packages/keras/backend/tensorflow_backend.py:986: The name tf.assign_add is deprecated. Please use tf.compat.v1.assign_add instead.\n",
      "\n"
     ]
    },
    {
     "name": "stdout",
     "output_type": "stream",
     "text": [
      "Epoch 1/100\n",
      "1198/1198 [==============================] - 9s 7ms/step - loss: 0.0409\n",
      "Epoch 2/100\n",
      "1198/1198 [==============================] - 4s 4ms/step - loss: 0.0071\n",
      "Epoch 3/100\n",
      "1198/1198 [==============================] - 5s 4ms/step - loss: 0.0055\n",
      "Epoch 4/100\n",
      "1198/1198 [==============================] - 5s 4ms/step - loss: 0.0058\n",
      "Epoch 5/100\n",
      "1198/1198 [==============================] - 4s 4ms/step - loss: 0.0048\n",
      "Epoch 6/100\n",
      "1198/1198 [==============================] - 4s 4ms/step - loss: 0.0047\n",
      "Epoch 7/100\n",
      "1198/1198 [==============================] - 4s 4ms/step - loss: 0.0044\n",
      "Epoch 8/100\n",
      "1198/1198 [==============================] - 4s 4ms/step - loss: 0.0044\n",
      "Epoch 9/100\n",
      "1198/1198 [==============================] - 4s 4ms/step - loss: 0.0047\n",
      "Epoch 10/100\n",
      "1198/1198 [==============================] - 5s 4ms/step - loss: 0.0053\n",
      "Epoch 11/100\n",
      "1198/1198 [==============================] - 5s 4ms/step - loss: 0.0049\n",
      "Epoch 12/100\n",
      "1198/1198 [==============================] - 4s 4ms/step - loss: 0.0047\n",
      "Epoch 13/100\n",
      "1198/1198 [==============================] - 5s 4ms/step - loss: 0.0046\n",
      "Epoch 14/100\n",
      "1198/1198 [==============================] - 4s 4ms/step - loss: 0.0043\n",
      "Epoch 15/100\n",
      "1198/1198 [==============================] - 5s 4ms/step - loss: 0.0040\n",
      "Epoch 16/100\n",
      "1198/1198 [==============================] - 5s 4ms/step - loss: 0.0038\n",
      "Epoch 17/100\n",
      "1198/1198 [==============================] - 5s 4ms/step - loss: 0.0043\n",
      "Epoch 18/100\n",
      "1198/1198 [==============================] - 5s 4ms/step - loss: 0.0035\n",
      "Epoch 19/100\n",
      "1198/1198 [==============================] - 4s 4ms/step - loss: 0.0040\n",
      "Epoch 20/100\n",
      "1198/1198 [==============================] - 5s 4ms/step - loss: 0.0038\n",
      "Epoch 21/100\n",
      "1198/1198 [==============================] - 5s 4ms/step - loss: 0.0035\n",
      "Epoch 22/100\n",
      "1198/1198 [==============================] - 5s 4ms/step - loss: 0.0035\n",
      "Epoch 23/100\n",
      "1198/1198 [==============================] - 5s 4ms/step - loss: 0.0037\n",
      "Epoch 24/100\n",
      "1198/1198 [==============================] - 4s 4ms/step - loss: 0.0039\n",
      "Epoch 25/100\n",
      "1198/1198 [==============================] - 4s 4ms/step - loss: 0.0034\n",
      "Epoch 26/100\n",
      "1198/1198 [==============================] - 5s 4ms/step - loss: 0.0032\n",
      "Epoch 27/100\n",
      "1198/1198 [==============================] - 5s 4ms/step - loss: 0.0032\n",
      "Epoch 28/100\n",
      "1198/1198 [==============================] - 5s 4ms/step - loss: 0.0030\n",
      "Epoch 29/100\n",
      "1198/1198 [==============================] - 5s 4ms/step - loss: 0.0031\n",
      "Epoch 30/100\n",
      "1198/1198 [==============================] - 4s 4ms/step - loss: 0.0030\n",
      "Epoch 31/100\n",
      "1198/1198 [==============================] - 5s 4ms/step - loss: 0.0028\n",
      "Epoch 32/100\n",
      "1198/1198 [==============================] - 5s 4ms/step - loss: 0.0029\n",
      "Epoch 33/100\n",
      "1198/1198 [==============================] - 5s 4ms/step - loss: 0.0027\n",
      "Epoch 34/100\n",
      "1198/1198 [==============================] - 4s 4ms/step - loss: 0.0028\n",
      "Epoch 35/100\n",
      "1198/1198 [==============================] - 4s 4ms/step - loss: 0.0026\n",
      "Epoch 36/100\n",
      "1198/1198 [==============================] - 5s 4ms/step - loss: 0.0029\n",
      "Epoch 37/100\n",
      "1198/1198 [==============================] - 4s 4ms/step - loss: 0.0033\n",
      "Epoch 38/100\n",
      "1198/1198 [==============================] - 4s 4ms/step - loss: 0.0026\n",
      "Epoch 39/100\n",
      "1198/1198 [==============================] - 5s 4ms/step - loss: 0.0028\n",
      "Epoch 40/100\n",
      "1198/1198 [==============================] - 5s 4ms/step - loss: 0.0027\n",
      "Epoch 41/100\n",
      "1198/1198 [==============================] - 5s 4ms/step - loss: 0.0024\n",
      "Epoch 42/100\n",
      "1198/1198 [==============================] - 4s 4ms/step - loss: 0.0027\n",
      "Epoch 43/100\n",
      "1198/1198 [==============================] - 5s 4ms/step - loss: 0.0026\n",
      "Epoch 44/100\n",
      "1198/1198 [==============================] - 5s 4ms/step - loss: 0.0025\n",
      "Epoch 45/100\n",
      "1198/1198 [==============================] - 4s 4ms/step - loss: 0.0025\n",
      "Epoch 46/100\n",
      "1198/1198 [==============================] - 5s 4ms/step - loss: 0.0023\n",
      "Epoch 47/100\n",
      "1198/1198 [==============================] - 5s 4ms/step - loss: 0.0025\n",
      "Epoch 48/100\n",
      "1198/1198 [==============================] - 4s 4ms/step - loss: 0.0023\n",
      "Epoch 49/100\n",
      "1198/1198 [==============================] - 5s 4ms/step - loss: 0.0024\n",
      "Epoch 50/100\n",
      "1198/1198 [==============================] - 4s 4ms/step - loss: 0.0024\n",
      "Epoch 51/100\n",
      "1198/1198 [==============================] - 4s 4ms/step - loss: 0.0022\n",
      "Epoch 52/100\n",
      "1198/1198 [==============================] - 5s 4ms/step - loss: 0.0024\n",
      "Epoch 53/100\n",
      "1198/1198 [==============================] - 5s 4ms/step - loss: 0.0020\n",
      "Epoch 54/100\n",
      "1198/1198 [==============================] - 4s 4ms/step - loss: 0.0021\n",
      "Epoch 55/100\n",
      "1198/1198 [==============================] - 5s 4ms/step - loss: 0.0020\n",
      "Epoch 56/100\n",
      "1198/1198 [==============================] - 5s 4ms/step - loss: 0.0022\n",
      "Epoch 57/100\n",
      "1198/1198 [==============================] - 5s 4ms/step - loss: 0.0021\n",
      "Epoch 58/100\n",
      "1198/1198 [==============================] - 5s 4ms/step - loss: 0.0020\n",
      "Epoch 59/100\n",
      "1198/1198 [==============================] - 5s 4ms/step - loss: 0.0020\n",
      "Epoch 60/100\n",
      "1198/1198 [==============================] - 4s 4ms/step - loss: 0.0021\n",
      "Epoch 61/100\n",
      "1198/1198 [==============================] - 5s 4ms/step - loss: 0.0020\n",
      "Epoch 62/100\n",
      "1198/1198 [==============================] - 4s 4ms/step - loss: 0.0021\n",
      "Epoch 63/100\n",
      "1198/1198 [==============================] - 5s 4ms/step - loss: 0.0020\n",
      "Epoch 64/100\n",
      "1198/1198 [==============================] - 4s 4ms/step - loss: 0.0017\n",
      "Epoch 65/100\n",
      "1198/1198 [==============================] - 4s 4ms/step - loss: 0.0018\n",
      "Epoch 66/100\n",
      "1198/1198 [==============================] - 5s 4ms/step - loss: 0.0018\n",
      "Epoch 67/100\n",
      "1198/1198 [==============================] - 4s 4ms/step - loss: 0.0020\n",
      "Epoch 68/100\n",
      "1198/1198 [==============================] - 4s 4ms/step - loss: 0.0017\n",
      "Epoch 69/100\n",
      "1198/1198 [==============================] - 5s 4ms/step - loss: 0.0017\n",
      "Epoch 70/100\n",
      "1198/1198 [==============================] - 4s 4ms/step - loss: 0.0018\n",
      "Epoch 71/100\n",
      "1198/1198 [==============================] - 5s 4ms/step - loss: 0.0018\n",
      "Epoch 72/100\n",
      "1198/1198 [==============================] - 5s 4ms/step - loss: 0.0020\n",
      "Epoch 73/100\n",
      "1198/1198 [==============================] - 5s 4ms/step - loss: 0.0019\n",
      "Epoch 74/100\n",
      "1198/1198 [==============================] - 4s 4ms/step - loss: 0.0019\n",
      "Epoch 75/100\n",
      "1198/1198 [==============================] - 4s 4ms/step - loss: 0.0021\n",
      "Epoch 76/100\n",
      "1198/1198 [==============================] - 5s 4ms/step - loss: 0.0017\n",
      "Epoch 77/100\n",
      "1198/1198 [==============================] - 5s 4ms/step - loss: 0.0017\n",
      "Epoch 78/100\n",
      "1198/1198 [==============================] - 5s 4ms/step - loss: 0.0018\n",
      "Epoch 79/100\n",
      "1198/1198 [==============================] - 5s 4ms/step - loss: 0.0018\n",
      "Epoch 80/100\n",
      "1198/1198 [==============================] - 5s 4ms/step - loss: 0.0020\n",
      "Epoch 81/100\n",
      "1198/1198 [==============================] - 5s 4ms/step - loss: 0.0019\n",
      "Epoch 82/100\n",
      "1198/1198 [==============================] - 4s 4ms/step - loss: 0.0017\n",
      "Epoch 83/100\n",
      "1198/1198 [==============================] - 5s 4ms/step - loss: 0.0016\n",
      "Epoch 84/100\n",
      "1198/1198 [==============================] - 4s 4ms/step - loss: 0.0016\n",
      "Epoch 85/100\n",
      "1198/1198 [==============================] - 4s 4ms/step - loss: 0.0015\n",
      "Epoch 86/100\n",
      "1198/1198 [==============================] - 5s 4ms/step - loss: 0.0016\n",
      "Epoch 87/100\n",
      "1198/1198 [==============================] - 5s 4ms/step - loss: 0.0014\n",
      "Epoch 88/100\n",
      "1198/1198 [==============================] - 4s 4ms/step - loss: 0.0015\n",
      "Epoch 89/100\n",
      "1198/1198 [==============================] - 5s 4ms/step - loss: 0.0015\n",
      "Epoch 90/100\n",
      "1198/1198 [==============================] - 5s 4ms/step - loss: 0.0014\n",
      "Epoch 91/100\n",
      "1198/1198 [==============================] - 5s 4ms/step - loss: 0.0018\n",
      "Epoch 92/100\n",
      "1198/1198 [==============================] - 4s 4ms/step - loss: 0.0014\n",
      "Epoch 93/100\n",
      "1198/1198 [==============================] - 4s 4ms/step - loss: 0.0017\n",
      "Epoch 94/100\n",
      "1198/1198 [==============================] - 5s 4ms/step - loss: 0.0015\n",
      "Epoch 95/100\n",
      "1198/1198 [==============================] - 5s 4ms/step - loss: 0.0014\n",
      "Epoch 96/100\n",
      "1198/1198 [==============================] - 5s 4ms/step - loss: 0.0015\n",
      "Epoch 97/100\n"
     ]
    },
    {
     "name": "stdout",
     "output_type": "stream",
     "text": [
      "1198/1198 [==============================] - 5s 4ms/step - loss: 0.0015\n",
      "Epoch 98/100\n",
      "1198/1198 [==============================] - 4s 4ms/step - loss: 0.0014\n",
      "Epoch 99/100\n",
      "1198/1198 [==============================] - 5s 4ms/step - loss: 0.0015\n",
      "Epoch 100/100\n",
      "1198/1198 [==============================] - 5s 4ms/step - loss: 0.0013\n"
     ]
    },
    {
     "data": {
      "text/plain": [
       "<keras.callbacks.History at 0x7f921663ca58>"
      ]
     },
     "execution_count": 80,
     "metadata": {},
     "output_type": "execute_result"
    }
   ],
   "source": [
    "regressor.fit (X_train, y_train, batch_size = 32, epochs = 100)"
   ]
  },
  {
   "cell_type": "code",
   "execution_count": 81,
   "metadata": {},
   "outputs": [],
   "source": [
    "#Predicting the stock prices of 2017 and visualising the resuts"
   ]
  },
  {
   "cell_type": "code",
   "execution_count": 82,
   "metadata": {},
   "outputs": [],
   "source": [
    "#Getting the real stock prices of 2017"
   ]
  },
  {
   "cell_type": "code",
   "execution_count": 83,
   "metadata": {},
   "outputs": [],
   "source": [
    "dataset_test = pd.read_csv (\"Google_Stock_Price_Test.csv\")"
   ]
  },
  {
   "cell_type": "code",
   "execution_count": 84,
   "metadata": {},
   "outputs": [
    {
     "data": {
      "text/plain": [
       "<bound method NDFrame.head of          Date    Open    High     Low   Close     Volume\n",
       "0    1/3/2017  778.81  789.63  775.80  786.14  1,657,300\n",
       "1    1/4/2017  788.36  791.34  783.16  786.90  1,073,000\n",
       "2    1/5/2017  786.08  794.48  785.02  794.02  1,335,200\n",
       "3    1/6/2017  795.26  807.90  792.20  806.15  1,640,200\n",
       "4    1/9/2017  806.40  809.97  802.83  806.65  1,272,400\n",
       "5   1/10/2017  807.86  809.13  803.51  804.79  1,176,800\n",
       "6   1/11/2017  805.00  808.15  801.37  807.91  1,065,900\n",
       "7   1/12/2017  807.14  807.39  799.17  806.36  1,353,100\n",
       "8   1/13/2017  807.48  811.22  806.69  807.88  1,099,200\n",
       "9   1/17/2017  807.08  807.14  800.37  804.61  1,362,100\n",
       "10  1/18/2017  805.81  806.21  800.99  806.07  1,294,400\n",
       "11  1/19/2017  805.12  809.48  801.80  802.17    919,300\n",
       "12  1/20/2017  806.91  806.91  801.69  805.02  1,670,000\n",
       "13  1/23/2017  807.25  820.87  803.74  819.31  1,963,600\n",
       "14  1/24/2017  822.30  825.90  817.82  823.87  1,474,000\n",
       "15  1/25/2017  829.62  835.77  825.06  835.67  1,494,500\n",
       "16  1/26/2017  837.81  838.00  827.01  832.15  2,973,900\n",
       "17  1/27/2017  834.71  841.95  820.44  823.31  2,965,800\n",
       "18  1/30/2017  814.66  815.84  799.80  802.32  3,246,600\n",
       "19  1/31/2017  796.86  801.25  790.52  796.79  2,160,600>"
      ]
     },
     "execution_count": 84,
     "metadata": {},
     "output_type": "execute_result"
    }
   ],
   "source": [
    "dataset_test.head"
   ]
  },
  {
   "cell_type": "code",
   "execution_count": 85,
   "metadata": {},
   "outputs": [],
   "source": [
    "real_stock_price = dataset_test.iloc [:, 1 : 2].values"
   ]
  },
  {
   "cell_type": "code",
   "execution_count": 86,
   "metadata": {},
   "outputs": [
    {
     "data": {
      "text/plain": [
       "(20, 1)"
      ]
     },
     "execution_count": 86,
     "metadata": {},
     "output_type": "execute_result"
    }
   ],
   "source": [
    "real_stock_price.shape"
   ]
  },
  {
   "cell_type": "code",
   "execution_count": 87,
   "metadata": {},
   "outputs": [],
   "source": [
    "#Getting the predicted stock price of 2017"
   ]
  },
  {
   "cell_type": "code",
   "execution_count": 88,
   "metadata": {},
   "outputs": [],
   "source": [
    "dataset_total = pd.concat ((dataset_train [\"Open\"], dataset_test [\"Open\"]), axis = 0)"
   ]
  },
  {
   "cell_type": "code",
   "execution_count": 89,
   "metadata": {},
   "outputs": [
    {
     "data": {
      "text/plain": [
       "<bound method NDFrame.head of 0       325.25\n",
       "1       331.27\n",
       "2       329.83\n",
       "3       328.34\n",
       "4       322.04\n",
       "5       313.70\n",
       "6       310.59\n",
       "7       314.43\n",
       "8       311.96\n",
       "9       314.81\n",
       "10      312.14\n",
       "11      319.30\n",
       "12      294.16\n",
       "13      291.91\n",
       "14      292.07\n",
       "15      287.68\n",
       "16      284.92\n",
       "17      284.32\n",
       "18      287.95\n",
       "19      290.41\n",
       "20      291.38\n",
       "21      291.34\n",
       "22      294.23\n",
       "23      296.39\n",
       "24      302.44\n",
       "25      303.18\n",
       "26      304.87\n",
       "27      302.81\n",
       "28      304.11\n",
       "29      304.63\n",
       "         ...  \n",
       "1248    800.40\n",
       "1249    790.22\n",
       "1250    796.76\n",
       "1251    795.84\n",
       "1252    792.36\n",
       "1253    790.90\n",
       "1254    790.68\n",
       "1255    793.70\n",
       "1256    783.33\n",
       "1257    782.75\n",
       "0       778.81\n",
       "1       788.36\n",
       "2       786.08\n",
       "3       795.26\n",
       "4       806.40\n",
       "5       807.86\n",
       "6       805.00\n",
       "7       807.14\n",
       "8       807.48\n",
       "9       807.08\n",
       "10      805.81\n",
       "11      805.12\n",
       "12      806.91\n",
       "13      807.25\n",
       "14      822.30\n",
       "15      829.62\n",
       "16      837.81\n",
       "17      834.71\n",
       "18      814.66\n",
       "19      796.86\n",
       "Name: Open, Length: 1278, dtype: float64>"
      ]
     },
     "execution_count": 89,
     "metadata": {},
     "output_type": "execute_result"
    }
   ],
   "source": [
    "dataset_total.head"
   ]
  },
  {
   "cell_type": "code",
   "execution_count": 90,
   "metadata": {},
   "outputs": [],
   "source": [
    "inputs = dataset_total [len (dataset_total) - len (dataset_test) - 60 : ].values"
   ]
  },
  {
   "cell_type": "code",
   "execution_count": 91,
   "metadata": {},
   "outputs": [
    {
     "data": {
      "text/plain": [
       "(80,)"
      ]
     },
     "execution_count": 91,
     "metadata": {},
     "output_type": "execute_result"
    }
   ],
   "source": [
    "inputs.shape"
   ]
  },
  {
   "cell_type": "code",
   "execution_count": 92,
   "metadata": {},
   "outputs": [
    {
     "data": {
      "text/plain": [
       "1258"
      ]
     },
     "execution_count": 92,
     "metadata": {},
     "output_type": "execute_result"
    }
   ],
   "source": [
    "len (dataset_total) - len (dataset_test) "
   ]
  },
  {
   "cell_type": "code",
   "execution_count": 93,
   "metadata": {},
   "outputs": [],
   "source": [
    "inputs = inputs.reshape (-1, 1)"
   ]
  },
  {
   "cell_type": "code",
   "execution_count": 94,
   "metadata": {},
   "outputs": [
    {
     "data": {
      "text/plain": [
       "(80, 1)"
      ]
     },
     "execution_count": 94,
     "metadata": {},
     "output_type": "execute_result"
    }
   ],
   "source": [
    "inputs.shape"
   ]
  },
  {
   "cell_type": "code",
   "execution_count": 95,
   "metadata": {},
   "outputs": [],
   "source": [
    "inputs = sc.transform (inputs)"
   ]
  },
  {
   "cell_type": "code",
   "execution_count": 96,
   "metadata": {},
   "outputs": [],
   "source": [
    "X_test = []"
   ]
  },
  {
   "cell_type": "code",
   "execution_count": 97,
   "metadata": {},
   "outputs": [],
   "source": [
    "for i in range (60, 80):\n",
    "    X_test.append (inputs [i - 60 : i, 0])"
   ]
  },
  {
   "cell_type": "code",
   "execution_count": 98,
   "metadata": {},
   "outputs": [],
   "source": [
    "X_test = np.array (X_test)"
   ]
  },
  {
   "cell_type": "code",
   "execution_count": 99,
   "metadata": {},
   "outputs": [
    {
     "data": {
      "text/plain": [
       "(20, 60)"
      ]
     },
     "execution_count": 99,
     "metadata": {},
     "output_type": "execute_result"
    }
   ],
   "source": [
    "X_test.shape"
   ]
  },
  {
   "cell_type": "code",
   "execution_count": 100,
   "metadata": {},
   "outputs": [],
   "source": [
    "X_test = np.reshape (X_test, (X_test.shape [0], X_test.shape [1], 1))"
   ]
  },
  {
   "cell_type": "code",
   "execution_count": 101,
   "metadata": {},
   "outputs": [
    {
     "data": {
      "text/plain": [
       "(20, 60, 1)"
      ]
     },
     "execution_count": 101,
     "metadata": {},
     "output_type": "execute_result"
    }
   ],
   "source": [
    "X_test.shape"
   ]
  },
  {
   "cell_type": "code",
   "execution_count": 102,
   "metadata": {},
   "outputs": [],
   "source": [
    "predicted_stock_price = regressor.predict (X_test)\n",
    "predicted_stock_price = sc.inverse_transform (predicted_stock_price)"
   ]
  },
  {
   "cell_type": "code",
   "execution_count": 103,
   "metadata": {},
   "outputs": [],
   "source": [
    "#Visualising the results"
   ]
  },
  {
   "cell_type": "code",
   "execution_count": 105,
   "metadata": {},
   "outputs": [
    {
     "data": {
      "image/png": "[encoded data removed]",
      "text/plain": [
       "<Figure size 432x288 with 1 Axes>"
      ]
     },
     "metadata": {
      "needs_background": "light"
     },
     "output_type": "display_data"
    }
   ],
   "source": [
    "plt.plot (real_stock_price, color = 'red', label = 'Real Google stock price')\n",
    "plt.plot (predicted_stock_price, color = 'blue', label = 'Predicted stock price')\n",
    "plt.xlabel ('Time')\n",
    "plt.ylabel ('Google Stock Price Prediction')\n",
    "plt.legend ()\n",
    "plt.show ()"
   ]
  },
  {
   "cell_type": "code",
   "execution_count": null,
   "metadata": {},
   "outputs": [],
   "source": []
  }
 ],
 "metadata": {
  "kernelspec": {
   "display_name": "Python 3",
   "language": "python",
   "name": "python3"
  },
  "language_info": {
   "codemirror_mode": {
    "name": "ipython",
    "version": 3
   },
   "file_extension": ".py",
   "mimetype": "text/x-python",
   "name": "python",
   "nbconvert_exporter": "python",
   "pygments_lexer": "ipython3",
   "version": "3.7.3"
  }
 },
 "nbformat": 4,
 "nbformat_minor": 2
}
